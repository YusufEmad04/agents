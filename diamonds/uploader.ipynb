{
 "cells": [
  {
   "cell_type": "code",
   "execution_count": 1,
   "metadata": {},
   "outputs": [
    {
     "name": "stderr",
     "output_type": "stream",
     "text": [
      "c:\\Users\\Acer\\AppData\\Local\\Programs\\Python\\Python39\\lib\\site-packages\\pinecone\\index.py:4: TqdmExperimentalWarning: Using `tqdm.autonotebook.tqdm` in notebook mode. Use `tqdm.tqdm` instead to force console mode (e.g. in jupyter console)\n",
      "  from tqdm.autonotebook import tqdm\n"
     ]
    }
   ],
   "source": [
    "from langchain.embeddings import OpenAIEmbeddings\n",
    "from langchain.vectorstores import Pinecone\n",
    "from langchain.schema import Document\n",
    "import pinecone\n",
    "\n",
    "# yusuf.emad.pinecone email\n",
    "pinecone.init(api_key=\"9ac12804-090d-4613-931f-d91af5e59053\", environment=\"gcp-starter\")"
   ]
  },
  {
   "cell_type": "code",
   "execution_count": 2,
   "metadata": {},
   "outputs": [],
   "source": [
    "docs = []"
   ]
  },
  {
   "attachments": {},
   "cell_type": "markdown",
   "metadata": {},
   "source": [
    "data (image, product)  \n",
    "type <product> (ring, necklace, earring)"
   ]
  },
  {
   "cell_type": "code",
   "execution_count": 3,
   "metadata": {},
   "outputs": [],
   "source": [
    "\n",
    "with open(\"products.txt\", \"r\", encoding=\"utf-8\") as f:\n",
    "    products = f.read()\n",
    "\n",
    "    for grp in products.split(\"\\n\\n\\n\"):\n",
    "\n",
    "        product_type = grp.split(\"\\n\")[0]\n",
    "        for product in \"\\n\".join(grp.split(\"\\n\")[1:]).split(\"\\n\\n\"):\n",
    "            docs.append(\n",
    "                Document(\n",
    "                    page_content=product,\n",
    "                    metadata={\"data\": \"product\", \"type\": product_type},\n",
    "                )\n",
    "            )\n"
   ]
  },
  {
   "cell_type": "code",
   "execution_count": 4,
   "metadata": {},
   "outputs": [
    {
     "name": "stdout",
     "output_type": "stream",
     "text": [
      "Name: Classic Bezel Diamond Earring Settings in 18k gold / platinum\n",
      "Price in 18k white, yellow or pink gold 180€ (217.80€ incl. 21% VAT).\n",
      "Price in platinum, 280€ (338.80€ incl. 21% VAT).\n",
      "Additional information:\n",
      "REFERENCE: bezel-or001\n",
      "WEIGHT: 2.00gr (+- 0.3gr)\n",
      "METAL: White Gold, Yellow Gold, Pink Gold, Platinum\n",
      "{'data': 'product', 'type': 'earring'}\n",
      "\n",
      "=====================================\n",
      "\n",
      "Name: Classic 4-prong diamond earring settings for Princess Cut in 18k gold / platinum\n",
      "Price in 18k white, yellow or pink gold 140€ (169.40€ incl. 21% VAT).\n",
      "Price in platinum, 240€ (290.40€ incl. 21% VAT).\n",
      "Additional information:\n",
      "REFERENCE: princess-or006\n",
      "WEIGHT: 2.00gr (+- 0.3gr)\n",
      "METAL: White Gold, Yellow Gold, Pink Gold, Platinum\n",
      "{'data': 'product', 'type': 'earring'}\n",
      "\n",
      "=====================================\n",
      "\n",
      "Name: Nobility Setting 18 Gold / Platinum\n",
      "Price in 18k white, yellow or pink gold 590€ (713.90€ incl. 21% VAT).\n",
      "Price in platinum, 780€ (943.80€ incl. 21% VAT).\n",
      "Description: Belgium Diamond’s Nobility Solitaire Diamond Ring settings pairs an elegant 2.4mm solid band with a exquisitely designed 6 prong setting. Both band and 6 prong setting is crafted from 18k gold or platinum.\n",
      "Diamond not included in price.\n",
      "Additional information:\n",
      "RING SIZE: 47, 48, 49, 50, 51, 52, 53, 54, 55, 56, 57, 58, 59, 60, 61, 62, 63, 64, 65, 66, 67, 68\n",
      "METAL: White Gold, Yellow Gold, Pink Gold, Platinum\n",
      "WEIGHT: 3.0gr (+- 0.2gr)\n",
      "REFERENCE: go_sol6-nobility\n",
      "GOLD WIDTH: 2.5mm\n",
      "{'data': 'product', 'type': 'ring'}\n",
      "\n",
      "=====================================\n",
      "\n",
      "Name: Classic 4 Prong Setting 18 Gold / Platinum\n",
      "Price in 18k white, yellow or pink gold 350€ (423.50€ incl. 21% VAT).\n",
      "Price in platinum, 590€ (713.90€ incl. 21% VAT).\n",
      "Description: This classic setting pairs an elegant 2.5mm solid band with a 4 prong setting. Both band and prong setting are crafted from 18k gold.\n",
      "Diamond not included in price.\n",
      "Additional information:\n",
      "RING SIZE: 47, 48, 49, 50, 51, 52, 53, 54, 55, 56, 57, 58, 59, 60, 61, 62, 63, 64, 65, 66, 67, 68\n",
      "METAL: White Gold, Yellow Gold, Pink Gold, Platinum\n",
      "WEIGHT: 3.0gr (+- 0.2gr)\n",
      "REFERENCE: go_sol4-classic\n",
      "GOLD WIDTH: 2.5mm\n",
      "{'data': 'product', 'type': 'ring'}\n",
      "\n",
      "=====================================\n",
      "\n",
      "Name: Semi Closed Setting 18 Gold / Platinum\n",
      "Price in 18k white, yellow or pink gold 460€ (556.60€ incl. 21% VAT).\n",
      "Price in platinum, 590€ (713.90€ incl. 21% VAT).\n",
      "Description: 18k Gold Semi Closed Setting Engagement Ring Band and Setting.\n",
      "This beautiful setting pairs an elegant 2.5mm band with a semi closed setting. Both band and prong setting are crafted from 18k gold or platinum.\n",
      "Diamond not included in price.\n",
      "Additional information:\n",
      "RING SIZE: 47, 48, 49, 50, 51, 52, 53, 54, 55, 56, 57, 58, 59, 60, 61, 62, 63, 64, 65, 66, 67, 68\n",
      "METAL: White Gold, Yellow Gold, Pink Gold, Platinum\n",
      "WEIGHT: 3.0gr (+- 0.2gr)\n",
      "REFERENCE: go_sol2-c\n",
      "GOLD WIDTH: 2.5mm\n",
      "{'data': 'product', 'type': 'ring'}\n",
      "\n",
      "=====================================\n",
      "\n",
      "Name: 5.40 CT. E/F-VS/SI Diamond Tennis Necklace in 18k White, Yellow or Pink Gold\n",
      "Price in 18k white, yellow or pink gold 5900€ (7139.00€ incl. 21% VAT).\n",
      "Description: This ravishing classic diamond tennis necklace features 180 round, Color E/F, Clarity VS/TOP-SI (perfectly eye clean) diamonds set in a 18k white, yellow or pink gold bracelet. Each diamond is an average of 0.03ct. giving this special and sparkling tennis neckalce a *total carat weight of 5.40 ct.\n",
      "Additional information:\n",
      "METAL: White Gold, Yellow Gold, Pink Gold\n",
      "REFERENCE: go-tne-5.40\n",
      "WEIGHT: 19 gr\n",
      "LENGTH: 42 cm\n",
      "NUMBER OF DIAMONDS: 180 x 0.03 ct.\n",
      "CARAT SIZE: App 5.40 TCW\n",
      "{'data': 'product', 'type': 'necklace'}\n",
      "\n",
      "=====================================\n",
      "\n",
      "Name: 8.94 CT. E/F-VS/SI Diamond Tennis Necklace in 18k White, Yellow or Pink Gold\n",
      "Price in 18k white, yellow or pink gold 7450€ (9014.50€ incl. 21% VAT).\n",
      "Description: This ravishing classic diamond tennis necklace features 149 round, Color E/F, Clarity VS/TOP-SI (perfectly eye clean) diamonds set in a 18k white, yellow or pink gold bracelet. Each diamond is an average of 0.06ct. giving this special and sparkling tennis neckalce a *total carat weight of 8.94 ct.\n",
      "Additional information:\n",
      "METAL: White Gold, Yellow Gold, Pink Gold\n",
      "REFERENCE: go-tne-8.94\n",
      "WEIGHT: 20.30 gr\n",
      "LENGTH: 42 cm\n",
      "NUMBER OF DIAMONDS: 149 x 0.06 ct.\n",
      "CARAT SIZE: 8.94TCW\n",
      "{'data': 'product', 'type': 'necklace'}\n",
      "\n",
      "=====================================\n",
      "\n"
     ]
    }
   ],
   "source": [
    "for doc in docs:\n",
    "    print(doc.page_content)\n",
    "    print(doc.metadata)\n",
    "    print(\"\\n=====================================\\n\")"
   ]
  },
  {
   "cell_type": "code",
   "execution_count": 5,
   "metadata": {},
   "outputs": [],
   "source": [
    "images_docs = []"
   ]
  },
  {
   "cell_type": "code",
   "execution_count": 6,
   "metadata": {},
   "outputs": [],
   "source": [
    "with open(\"images.txt\", \"r\", encoding=\"utf-8\") as f:\n",
    "    images = f.read().split(\"\\n\\n\")\n",
    "    \n",
    "    for i in images:\n",
    "        images_docs.append(\n",
    "            Document(\n",
    "                page_content=i,\n",
    "                metadata={\"data\": \"image\"},\n",
    "            )\n",
    "        )"
   ]
  },
  {
   "cell_type": "code",
   "execution_count": 7,
   "metadata": {},
   "outputs": [
    {
     "name": "stdout",
     "output_type": "stream",
     "text": [
      "![Classic Bezel Diamond Earring Settings in 18k gold / platinum](https://belgiumdiamonds.net/wp-content/uploads/2021/04/earring-round3.jpg) ![Classic Bezel Diamond Earring Settings in 18k gold / platinum](https://belgiumdiamonds.net/wp-content/uploads/2021/04/earring-round4.jpg)\n",
      "{'data': 'image'}\n",
      "\n",
      "=====================================\n",
      "\n",
      "![Classic 4-prong diamond earring settings for Princess Cut in 18k gold / platinum](https://belgiumdiamonds.net/wp-content/uploads/2021/04/earring-princess-main2.jpg) ![Classic 4-prong diamond earring settings for Princess Cut in 18k gold / platinum](https://belgiumdiamonds.net/wp-content/uploads/2021/04/earring-princess4.jpg)\n",
      "{'data': 'image'}\n",
      "\n",
      "=====================================\n",
      "\n",
      "![Nobility Setting 18 Gold / Platinum](https://belgiumdiamonds.net/wp-content/uploads/2021/09/nobility-ring2.jpg) ![Nobility Setting 18 Gold / Platinum](https://belgiumdiamonds.net/wp-content/uploads/2021/09/nobility-ring1.jpg)\n",
      "{'data': 'image'}\n",
      "\n",
      "=====================================\n",
      "\n",
      "![Classic 4 Prong Setting 18 Gold / Platinum](https://belgiumdiamonds.net/wp-content/uploads/2021/04/4-prong-classic2.jpg) ![Classic 4 Prong Setting 18 Gold / Platinum](https://belgiumdiamonds.net/wp-content/uploads/2021/04/4-prong-classic3.jpg)\n",
      "{'data': 'image'}\n",
      "\n",
      "=====================================\n",
      "\n",
      "![Semi Closed Setting 18 Gold / Platinum](https://belgiumdiamonds.net/wp-content/uploads/2021/04/semi-closed1.jpg) ![Semi Closed Setting 18 Gold / Platinum](https://belgiumdiamonds.net/wp-content/uploads/2021/04/semi-closed2.jpg)\n",
      "{'data': 'image'}\n",
      "\n",
      "=====================================\n",
      "\n",
      "![5.40 CT. E/F-VS/SI Diamond Tennis Necklace in 18k White, Yellow or Pink Gold](https://belgiumdiamonds.net/wp-content/uploads/2021/11/tennis-neclaces-sizes-ygold.jpg)\n",
      "{'data': 'image'}\n",
      "\n",
      "=====================================\n",
      "\n",
      "![8.94 CT. E/F-VS/SI Diamond Tennis Necklace in 18k White, Yellow or Pink Gold](https://belgiumdiamonds.net/wp-content/uploads/2021/11/tennis-neclaces-sizes-wgold.jpg)\n",
      "{'data': 'image'}\n",
      "\n",
      "=====================================\n",
      "\n"
     ]
    }
   ],
   "source": [
    "for i in images_docs:\n",
    "    print(i.page_content)\n",
    "    print(i.metadata)\n",
    "    print(\"\\n=====================================\\n\")"
   ]
  },
  {
   "cell_type": "code",
   "execution_count": 8,
   "metadata": {},
   "outputs": [
    {
     "name": "stdout",
     "output_type": "stream",
     "text": [
      "7\n",
      "7\n"
     ]
    }
   ],
   "source": [
    "print(len(docs))\n",
    "print(len(images_docs))"
   ]
  },
  {
   "cell_type": "code",
   "execution_count": 9,
   "metadata": {},
   "outputs": [],
   "source": [
    "docs.extend(images_docs)"
   ]
  },
  {
   "cell_type": "code",
   "execution_count": 10,
   "metadata": {},
   "outputs": [
    {
     "name": "stdout",
     "output_type": "stream",
     "text": [
      "14\n"
     ]
    }
   ],
   "source": [
    "print(len(docs))"
   ]
  },
  {
   "cell_type": "code",
   "execution_count": 11,
   "metadata": {},
   "outputs": [
    {
     "name": "stdout",
     "output_type": "stream",
     "text": [
      "Name: Classic Bezel Diamond Earring Settings in 18k gold / platinum\n",
      "Price in 18k white, yellow or pink gold 180€ (217.80€ incl. 21% VAT).\n",
      "Price in platinum, 280€ (338.80€ incl. 21% VAT).\n",
      "Additional information:\n",
      "REFERENCE: bezel-or001\n",
      "WEIGHT: 2.00gr (+- 0.3gr)\n",
      "METAL: White Gold, Yellow Gold, Pink Gold, Platinum\n",
      "{'data': 'product', 'type': 'earring'}\n",
      "\n",
      "=====================================\n",
      "\n",
      "Name: Classic 4-prong diamond earring settings for Princess Cut in 18k gold / platinum\n",
      "Price in 18k white, yellow or pink gold 140€ (169.40€ incl. 21% VAT).\n",
      "Price in platinum, 240€ (290.40€ incl. 21% VAT).\n",
      "Additional information:\n",
      "REFERENCE: princess-or006\n",
      "WEIGHT: 2.00gr (+- 0.3gr)\n",
      "METAL: White Gold, Yellow Gold, Pink Gold, Platinum\n",
      "{'data': 'product', 'type': 'earring'}\n",
      "\n",
      "=====================================\n",
      "\n",
      "Name: Nobility Setting 18 Gold / Platinum\n",
      "Price in 18k white, yellow or pink gold 590€ (713.90€ incl. 21% VAT).\n",
      "Price in platinum, 780€ (943.80€ incl. 21% VAT).\n",
      "Description: Belgium Diamond’s Nobility Solitaire Diamond Ring settings pairs an elegant 2.4mm solid band with a exquisitely designed 6 prong setting. Both band and 6 prong setting is crafted from 18k gold or platinum.\n",
      "Diamond not included in price.\n",
      "Additional information:\n",
      "RING SIZE: 47, 48, 49, 50, 51, 52, 53, 54, 55, 56, 57, 58, 59, 60, 61, 62, 63, 64, 65, 66, 67, 68\n",
      "METAL: White Gold, Yellow Gold, Pink Gold, Platinum\n",
      "WEIGHT: 3.0gr (+- 0.2gr)\n",
      "REFERENCE: go_sol6-nobility\n",
      "GOLD WIDTH: 2.5mm\n",
      "{'data': 'product', 'type': 'ring'}\n",
      "\n",
      "=====================================\n",
      "\n",
      "Name: Classic 4 Prong Setting 18 Gold / Platinum\n",
      "Price in 18k white, yellow or pink gold 350€ (423.50€ incl. 21% VAT).\n",
      "Price in platinum, 590€ (713.90€ incl. 21% VAT).\n",
      "Description: This classic setting pairs an elegant 2.5mm solid band with a 4 prong setting. Both band and prong setting are crafted from 18k gold.\n",
      "Diamond not included in price.\n",
      "Additional information:\n",
      "RING SIZE: 47, 48, 49, 50, 51, 52, 53, 54, 55, 56, 57, 58, 59, 60, 61, 62, 63, 64, 65, 66, 67, 68\n",
      "METAL: White Gold, Yellow Gold, Pink Gold, Platinum\n",
      "WEIGHT: 3.0gr (+- 0.2gr)\n",
      "REFERENCE: go_sol4-classic\n",
      "GOLD WIDTH: 2.5mm\n",
      "{'data': 'product', 'type': 'ring'}\n",
      "\n",
      "=====================================\n",
      "\n",
      "Name: Semi Closed Setting 18 Gold / Platinum\n",
      "Price in 18k white, yellow or pink gold 460€ (556.60€ incl. 21% VAT).\n",
      "Price in platinum, 590€ (713.90€ incl. 21% VAT).\n",
      "Description: 18k Gold Semi Closed Setting Engagement Ring Band and Setting.\n",
      "This beautiful setting pairs an elegant 2.5mm band with a semi closed setting. Both band and prong setting are crafted from 18k gold or platinum.\n",
      "Diamond not included in price.\n",
      "Additional information:\n",
      "RING SIZE: 47, 48, 49, 50, 51, 52, 53, 54, 55, 56, 57, 58, 59, 60, 61, 62, 63, 64, 65, 66, 67, 68\n",
      "METAL: White Gold, Yellow Gold, Pink Gold, Platinum\n",
      "WEIGHT: 3.0gr (+- 0.2gr)\n",
      "REFERENCE: go_sol2-c\n",
      "GOLD WIDTH: 2.5mm\n",
      "{'data': 'product', 'type': 'ring'}\n",
      "\n",
      "=====================================\n",
      "\n",
      "Name: 5.40 CT. E/F-VS/SI Diamond Tennis Necklace in 18k White, Yellow or Pink Gold\n",
      "Price in 18k white, yellow or pink gold 5900€ (7139.00€ incl. 21% VAT).\n",
      "Description: This ravishing classic diamond tennis necklace features 180 round, Color E/F, Clarity VS/TOP-SI (perfectly eye clean) diamonds set in a 18k white, yellow or pink gold bracelet. Each diamond is an average of 0.03ct. giving this special and sparkling tennis neckalce a *total carat weight of 5.40 ct.\n",
      "Additional information:\n",
      "METAL: White Gold, Yellow Gold, Pink Gold\n",
      "REFERENCE: go-tne-5.40\n",
      "WEIGHT: 19 gr\n",
      "LENGTH: 42 cm\n",
      "NUMBER OF DIAMONDS: 180 x 0.03 ct.\n",
      "CARAT SIZE: App 5.40 TCW\n",
      "{'data': 'product', 'type': 'necklace'}\n",
      "\n",
      "=====================================\n",
      "\n",
      "Name: 8.94 CT. E/F-VS/SI Diamond Tennis Necklace in 18k White, Yellow or Pink Gold\n",
      "Price in 18k white, yellow or pink gold 7450€ (9014.50€ incl. 21% VAT).\n",
      "Description: This ravishing classic diamond tennis necklace features 149 round, Color E/F, Clarity VS/TOP-SI (perfectly eye clean) diamonds set in a 18k white, yellow or pink gold bracelet. Each diamond is an average of 0.06ct. giving this special and sparkling tennis neckalce a *total carat weight of 8.94 ct.\n",
      "Additional information:\n",
      "METAL: White Gold, Yellow Gold, Pink Gold\n",
      "REFERENCE: go-tne-8.94\n",
      "WEIGHT: 20.30 gr\n",
      "LENGTH: 42 cm\n",
      "NUMBER OF DIAMONDS: 149 x 0.06 ct.\n",
      "CARAT SIZE: 8.94TCW\n",
      "{'data': 'product', 'type': 'necklace'}\n",
      "\n",
      "=====================================\n",
      "\n",
      "![Classic Bezel Diamond Earring Settings in 18k gold / platinum](https://belgiumdiamonds.net/wp-content/uploads/2021/04/earring-round3.jpg) ![Classic Bezel Diamond Earring Settings in 18k gold / platinum](https://belgiumdiamonds.net/wp-content/uploads/2021/04/earring-round4.jpg)\n",
      "{'data': 'image'}\n",
      "\n",
      "=====================================\n",
      "\n",
      "![Classic 4-prong diamond earring settings for Princess Cut in 18k gold / platinum](https://belgiumdiamonds.net/wp-content/uploads/2021/04/earring-princess-main2.jpg) ![Classic 4-prong diamond earring settings for Princess Cut in 18k gold / platinum](https://belgiumdiamonds.net/wp-content/uploads/2021/04/earring-princess4.jpg)\n",
      "{'data': 'image'}\n",
      "\n",
      "=====================================\n",
      "\n",
      "![Nobility Setting 18 Gold / Platinum](https://belgiumdiamonds.net/wp-content/uploads/2021/09/nobility-ring2.jpg) ![Nobility Setting 18 Gold / Platinum](https://belgiumdiamonds.net/wp-content/uploads/2021/09/nobility-ring1.jpg)\n",
      "{'data': 'image'}\n",
      "\n",
      "=====================================\n",
      "\n",
      "![Classic 4 Prong Setting 18 Gold / Platinum](https://belgiumdiamonds.net/wp-content/uploads/2021/04/4-prong-classic2.jpg) ![Classic 4 Prong Setting 18 Gold / Platinum](https://belgiumdiamonds.net/wp-content/uploads/2021/04/4-prong-classic3.jpg)\n",
      "{'data': 'image'}\n",
      "\n",
      "=====================================\n",
      "\n",
      "![Semi Closed Setting 18 Gold / Platinum](https://belgiumdiamonds.net/wp-content/uploads/2021/04/semi-closed1.jpg) ![Semi Closed Setting 18 Gold / Platinum](https://belgiumdiamonds.net/wp-content/uploads/2021/04/semi-closed2.jpg)\n",
      "{'data': 'image'}\n",
      "\n",
      "=====================================\n",
      "\n",
      "![5.40 CT. E/F-VS/SI Diamond Tennis Necklace in 18k White, Yellow or Pink Gold](https://belgiumdiamonds.net/wp-content/uploads/2021/11/tennis-neclaces-sizes-ygold.jpg)\n",
      "{'data': 'image'}\n",
      "\n",
      "=====================================\n",
      "\n",
      "![8.94 CT. E/F-VS/SI Diamond Tennis Necklace in 18k White, Yellow or Pink Gold](https://belgiumdiamonds.net/wp-content/uploads/2021/11/tennis-neclaces-sizes-wgold.jpg)\n",
      "{'data': 'image'}\n",
      "\n",
      "=====================================\n",
      "\n"
     ]
    }
   ],
   "source": [
    "for doc in docs:\n",
    "    print(doc.page_content)\n",
    "    print(doc.metadata)\n",
    "    print(\"\\n=====================================\\n\")"
   ]
  },
  {
   "cell_type": "code",
   "execution_count": 43,
   "metadata": {},
   "outputs": [],
   "source": [
    "vectorstore = Pinecone.from_documents(docs, OpenAIEmbeddings(), index_name=\"diamonds\")"
   ]
  }
 ],
 "metadata": {
  "kernelspec": {
   "display_name": "Python 3",
   "language": "python",
   "name": "python3"
  },
  "language_info": {
   "codemirror_mode": {
    "name": "ipython",
    "version": 3
   },
   "file_extension": ".py",
   "mimetype": "text/x-python",
   "name": "python",
   "nbconvert_exporter": "python",
   "pygments_lexer": "ipython3",
   "version": "3.9.9 (tags/v3.9.9:ccb0e6a, Nov 15 2021, 18:08:50) [MSC v.1929 64 bit (AMD64)]"
  },
  "orig_nbformat": 4,
  "vscode": {
   "interpreter": {
    "hash": "56ff1c1c3135541108fe132e771aa45bbbf614a992258041b003da88d6e3d5e1"
   }
  }
 },
 "nbformat": 4,
 "nbformat_minor": 2
}
